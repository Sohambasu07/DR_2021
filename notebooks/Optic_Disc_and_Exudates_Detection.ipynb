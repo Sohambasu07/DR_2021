{
  "nbformat": 4,
  "nbformat_minor": 0,
  "metadata": {
    "colab": {
      "provenance": [],
      "collapsed_sections": [],
      "toc_visible": true
    },
    "kernelspec": {
      "name": "python3",
      "display_name": "Python 3"
    }
  },
  "cells": [
    {
      "cell_type": "markdown",
      "source": [
        "<H1>Notebook for Optic Disc Localization and detection of Exudates using the IDRID Segmentation dataset</H1>\n",
        "\n",
        "[![dataset](https://img.shields.io/badge/Open_in_Colab-orange)](https://githubtocolab.com/Sohambasu07/DR_2021/blob/master/notebooks/Blood_Vessel_Segmentation_DRIVE_dataset.ipynb)\n",
        "[![paper](https://img.shields.io/badge/Springer-Full_Paper-blue)](https://doi.org/10.1007/978-981-16-1543-6_16) \n",
        "[![dataset](https://img.shields.io/badge/IDRID-Dataset-yellow)](https://ieee-dataport.org/open-access/indian-diabetic-retinopathy-image-dataset-idrid#files)"
      ],
      "metadata": {
        "id": "wBLEXCtYekTD"
      }
    },
    {
      "cell_type": "markdown",
      "metadata": {
        "id": "KSmx2pzmwu0b"
      },
      "source": [
        "#Optical Disc Detection\n"
      ]
    },
    {
      "cell_type": "code",
      "metadata": {
        "id": "MKR-Ek_JVMQH",
        "outputId": "7f648ddd-8c4a-4d1b-872e-dad322df0f6c",
        "colab": {
          "base_uri": "https://localhost:8080/",
          "height": 35
        }
      },
      "source": [
        "import cv2 as cv\n",
        "import matplotlib.pyplot as plt\n",
        "import numpy as np\n",
        "import skimage\n",
        "import time\n",
        "from skimage import data\n",
        "from skimage import filters\n",
        "from skimage.transform import hough_ellipse\n",
        "from skimage.draw import ellipse_perimeter\n",
        "from skimage import io, morphology\n",
        "from skimage.morphology import disk\n",
        "from skimage.filters.rank import entropy\n",
        "from sklearn.metrics import confusion_matrix\n",
        "\n",
        "cv.__version__"
      ],
      "execution_count": null,
      "outputs": [
        {
          "output_type": "execute_result",
          "data": {
            "application/vnd.google.colaboratory.intrinsic+json": {
              "type": "string"
            },
            "text/plain": [
              "'4.1.2'"
            ]
          },
          "metadata": {
            "tags": []
          },
          "execution_count": 20
        }
      ]
    },
    {
      "cell_type": "code",
      "metadata": {
        "id": "qZmszUkU-QVf",
        "outputId": "da7d62f0-ad30-4306-9f38-0dba07e5d872",
        "colab": {
          "base_uri": "https://localhost:8080/",
          "height": 413
        }
      },
      "source": [
        "#Template creation\n",
        "template = np.ones((95,95), dtype=\"uint8\") * 0\n",
        "template = cv.circle(template, (47,47), 46, 255, -1)\n",
        "print(template)\n",
        "plt.imshow(template, cmap = 'gray', interpolation = 'bicubic')\n",
        "template_path = ''\n",
        "cv.imwrite(template_path, template)"
      ],
      "execution_count": null,
      "outputs": [
        {
          "output_type": "stream",
          "text": [
            "[[0 0 0 ... 0 0 0]\n",
            " [0 0 0 ... 0 0 0]\n",
            " [0 0 0 ... 0 0 0]\n",
            " ...\n",
            " [0 0 0 ... 0 0 0]\n",
            " [0 0 0 ... 0 0 0]\n",
            " [0 0 0 ... 0 0 0]]\n"
          ],
          "name": "stdout"
        },
        {
          "output_type": "execute_result",
          "data": {
            "text/plain": [
              "True"
            ]
          },
          "metadata": {
            "tags": []
          },
          "execution_count": 25
        },
        {
          "output_type": "display_data",
          "data": {
            "image/png": "[encoded data removed]",
            "text/plain": [
              "<Figure size 432x288 with 1 Axes>"
            ]
          },
          "metadata": {
            "tags": [],
            "needs_background": "light"
          }
        }
      ]
    },
    {
      "cell_type": "code",
      "source": [
        "directory_path = ''#path where images are stored"
      ],
      "metadata": {
        "id": "px5S3AM7e0Vr"
      },
      "execution_count": null,
      "outputs": []
    },
    {
      "cell_type": "code",
      "metadata": {
        "id": "bLd7NqOXVQBN"
      },
      "source": [
        "def getImage(img_num):\n",
        "  path = \n",
        "  str_num = str(img_num)\n",
        "  if (img_num) < 10:\n",
        "    str_num = '0'+ str_num\n",
        "  name = 'IDRiD_' + str_num + '.jpg'\n",
        "  full_path = path + name\n",
        "  image = cv.imread(full_path, -1)\n",
        "  print(full_path)\n",
        "  return image"
      ],
      "execution_count": null,
      "outputs": []
    },
    {
      "cell_type": "code",
      "metadata": {
        "id": "On1CvkRYXIJk"
      },
      "source": [
        "def imgResize(img):\n",
        "  h = img.shape[0]\n",
        "  w = img.shape[1]\n",
        "  perc = 500/w\n",
        "  w1 = 500\n",
        "  h1 = int(h*perc)\n",
        "  img_rs = cv.resize(img,(w1,h1))\n",
        "  return img_rs"
      ],
      "execution_count": null,
      "outputs": []
    },
    {
      "cell_type": "code",
      "metadata": {
        "id": "53Ji89JmYegr"
      },
      "source": [
        "def cannyEdges(img, th1, th2):\n",
        "  edges = cv.Canny(img, th1, th2)\n",
        "  return edges"
      ],
      "execution_count": null,
      "outputs": []
    },
    {
      "cell_type": "code",
      "metadata": {
        "id": "PsFatWEc3duP"
      },
      "source": [
        "def kmeansclust(img, k):\n",
        "  img_rsp = img.reshape((-1,1))\n",
        "  img_rsp = img_rsp.astype('float32')\n",
        "  criteria = (cv.TERM_CRITERIA_EPS + cv.TERM_CRITERIA_MAX_ITER, 400, 0.99)\n",
        "  _, labels, (centers) = cv.kmeans(img_rsp, k, None, criteria, 10, cv.KMEANS_RANDOM_CENTERS)\n",
        "  centers = centers.astype('uint8')\n",
        "  labels = labels.flatten()\n",
        "  seg_img = centers[labels.flatten()]\n",
        "  seg_img = seg_img.reshape(img.shape)\n",
        "  return seg_img"
      ],
      "execution_count": null,
      "outputs": []
    },
    {
      "cell_type": "code",
      "metadata": {
        "id": "xKDPpJQ2XVdr"
      },
      "source": [
        "#Optic Disc Localization\n",
        "i = 0\n",
        "count = 0\n",
        "start_time = time.time()\n",
        "for img_num in range(1,55):\n",
        "  img = getImage(img_num)\n",
        "  print(\"Image Number: \", img_num)\n",
        "\n",
        "  img_rs = imgResize(img)\n",
        "\n",
        "  img_rc,_,_ = cv.split(img_rs)\n",
        "  _,img_gc,_ = cv.split(img_rs)\n",
        "  _,_,img_bc = cv.split(img_rs)\n",
        "  img_grey = cv.cvtColor(img_rs, cv.COLOR_BGR2GRAY)\n",
        "\n",
        "\n",
        "  img_k = kmeansclust(img_grey, 7)\n",
        "\n",
        "\n",
        "  temp = cv.imread(template_path, -1)\n",
        "\n",
        "\n",
        "  #TEMPLATE MATCHING\n",
        "  metd = cv.TM_CCOEFF_NORMED\n",
        "  temp_mat = cv.matchTemplate(img_k, temp, metd)\n",
        "\n",
        "  min_val, max_val, min_loc, max_loc = cv.minMaxLoc(temp_mat)\n",
        "  x = max_loc[0]+45\n",
        "  y = max_loc[1]+45\n",
        "  print(x,y)\n",
        "\n",
        "  temp_mat = img_rc.copy()\n",
        "  img_mark = cv.circle(temp_mat, (x, y) ,40, 0, -1)\n",
        "\n",
        "  if (img_num<10):\n",
        "    img_path = \"/content/od_he/0\" + str(img_num) +'.jpg'\n",
        "  else:\n",
        "    img_path = \"/content/od_he/\" + str(img_num) +'.jpg'\n",
        "  cv.imwrite(img_path, img_mark)\n",
        "\n",
        "  img_stack = np.hstack([img_mark, img_gc])\n",
        "\n",
        "  plt.figure(img_num)\n",
        "  plt.title(img_num)\n",
        "  plt.imshow(img_stack, cmap = 'gray', interpolation = 'bicubic')\n",
        "\n",
        "\n",
        "   \n",
        "  i = i + 1\n",
        "\n",
        "end_time = time.time()"
      ],
      "execution_count": null,
      "outputs": []
    },
    {
      "cell_type": "markdown",
      "source": [
        "#Hard Exudates"
      ],
      "metadata": {
        "id": "SkCn6RWWeHUi"
      }
    },
    {
      "cell_type": "code",
      "metadata": {
        "id": "h5DXqmEa548h"
      },
      "source": [
        "def getContours1(img, img_main, cnt_area):\n",
        "  mask1 = np.ones(img.shape, dtype=\"uint8\") * 0\t\n",
        "  cnts0, hier0 = cv.findContours(img.copy(),cv.RETR_LIST,cv.CHAIN_APPROX_NONE)\n",
        "  for i in cnts0:\n",
        "    if cv.contourArea(i) <= cnt_area:\n",
        "      cv.drawContours(mask1, [i], -1, 255, -1)\n",
        "  mask1 = cv.bitwise_and(img_main, img_main, mask = mask1)\n",
        "  return mask1"
      ],
      "execution_count": null,
      "outputs": []
    },
    {
      "cell_type": "code",
      "metadata": {
        "id": "SfCy2G5p2aU2"
      },
      "source": [
        "#Exudates Detection\n",
        "acc = []\n",
        "spcf = []\n",
        "sens = []\n",
        "f1_sc = []\n",
        "i = 0\n",
        "count = 0\n",
        "img_num = 1\n",
        "for img_num in range(1,55):\n",
        "  if (img_num<10):\n",
        "    str_num = \"0\" + str(img_num)\n",
        "  else:\n",
        "    str_num = str(img_num)\n",
        "  file_path = \"/content/od_he/\" + str_num +'.jpg'\n",
        "  img = cv.imread(file_path, -1)\n",
        "  print(\"Image Number: \", img_num)\n",
        "\n",
        "  \n",
        "  clus_seg = kmeansclust(img, 15)\n",
        "  unique, counts = np.unique(clus_seg, return_counts=True)\n",
        "  _,kthm = cv.threshold(clus_seg, np.max(unique)-1, 255, cv.THRESH_BINARY)\n",
        "\n",
        "  kthm = getContours1(kthm, kthm, 55)\n",
        "\n",
        "  img_cnt = cv.dilate(edges, cv.getStructuringElement(cv.MORPH_ELLIPSE,(2,2)))\n",
        "  img_clean = getContours1(img_cnt, img, 15)\n",
        "  img_clean = cv.erode(img_clean, cv.getStructuringElement(cv.MORPH_ELLIPSE,(2,2)), iterations=1)\n",
        "  img_clean = cv.dilate(img_clean, cv.getStructuringElement(cv.MORPH_ELLIPSE,(2,2)), iterations = 2)\n",
        "  max_intsy = np.max(img_clean.flatten())\n",
        "  img_clean[img_clean>=max_intsy] = 255\n",
        "  img_clean[img_clean<max_intsy] = 0\n",
        "  img_final = cv.bitwise_or(kthm, img_clean)\n",
        "  unique, counts = np.unique(img_final, return_counts=True)\n",
        "  print(dict(zip(unique, counts)))\n",
        "\n",
        "  ex_stack = np.hstack([img, img_final])\n",
        "\n",
        "  man_path = '' #path to groundtruth for side-by-side comparison\n",
        "  img_he = cv.imread(man_path, 0)\n",
        "  man = imgResize(img_he)\n",
        " \n",
        "  _,man_th = cv.threshold(man,0 , 255, cv.THRESH_BINARY)\n",
        "  \n",
        "  ex_stack = np.hstack([img_final, man_th])\n",
        "\n",
        "  plt.figure(img_num)\n",
        "  plt.title(img_num)\n",
        "  plt.imshow(ex_stack, cmap = 'gray', interpolation = 'bicubic')"
      ],
      "execution_count": null,
      "outputs": []
    }
  ]
}