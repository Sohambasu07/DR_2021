{
  "nbformat": 4,
  "nbformat_minor": 0,
  "metadata": {
    "colab": {
      "name": "Blood Vessel Segmentation - DRIVE dataset_External",
      "provenance": [],
      "collapsed_sections": []
    },
    "kernelspec": {
      "name": "python3",
      "display_name": "Python 3"
    }
  },
  "cells": [
    {
      "cell_type": "markdown",
      "source": [
        "<H1>Notebook for Segmentation of Blood Vessels using the DRIVE dataset</H1>\n",
        "\n",
        "[![dataset](https://img.shields.io/badge/Open_in_Colab-yellow)](https://githubtocolab.com/Sohambasu07/DR_2021/blob/master/notebooks/Blood_Vessel_Segmentation_DRIVE_dataset.ipynb)\n",
        "[![paper](https://img.shields.io/badge/Springer-Full_Paper-blue)](https://doi.org/10.1007/978-981-16-1543-6_16) \n",
        "[![dataset](https://img.shields.io/badge/DRIVE-Dataset-red)](https://drive.grand-challenge.org/)"
      ],
      "metadata": {
        "id": "DBldH40IUxF3"
      }
    },
    {
      "cell_type": "markdown",
      "source": [
        "<h3>1. Importing necessary libraries </h3>"
      ],
      "metadata": {
        "id": "w1sBfbl0VeJj"
      }
    },
    {
      "cell_type": "code",
      "metadata": {
        "id": "lDnTwTMdrP2N",
        "colab": {
          "base_uri": "https://localhost:8080/",
          "height": 52
        },
        "outputId": "b44c5ebc-3e2c-4d99-be14-04ddf95f10f9"
      },
      "source": [
        "import cv2 as cv\n",
        "import matplotlib.pyplot as plt\n",
        "import numpy as np\n",
        "import skimage\n",
        "from skimage import data\n",
        "from skimage import filters\n",
        "import time\n",
        "from skimage import io, morphology\n",
        "from PIL import Image\n",
        "from sklearn.metrics import confusion_matrix\n",
        "from sklearn.metrics import roc_auc_score, auc\n",
        "\n",
        "!python --version\n",
        "cv.__version__"
      ],
      "execution_count": null,
      "outputs": [
        {
          "output_type": "stream",
          "text": [
            "Python 3.7.11\n"
          ],
          "name": "stdout"
        },
        {
          "output_type": "execute_result",
          "data": {
            "application/vnd.google.colaboratory.intrinsic+json": {
              "type": "string"
            },
            "text/plain": [
              "'4.1.2'"
            ]
          },
          "metadata": {
            "tags": []
          },
          "execution_count": 1
        }
      ]
    },
    {
      "cell_type": "markdown",
      "source": [
        "<h3>2. Set Image Path variables</h3>"
      ],
      "metadata": {
        "id": "-yghrlcbVoHB"
      }
    },
    {
      "cell_type": "code",
      "source": [
        "path_to_train_images = ''                                 #Path to the directory containing the train images\n",
        "path_to_test_images = ''                                  #Path to the directory containing the test images \n",
        "path_to_train_manual = ''                                 #Path to the directory containing the groundtruth/manual for train images\n",
        "path_to_test_manual = ''                                  #Path to the directory containing the groundtruth/manual for test images"
      ],
      "metadata": {
        "id": "Da5_AlNcTvPY"
      },
      "execution_count": null,
      "outputs": []
    },
    {
      "cell_type": "markdown",
      "source": [
        "<h3>3. Get the train/test images </h3>"
      ],
      "metadata": {
        "id": "miowd0PxVuu9"
      }
    },
    {
      "cell_type": "code",
      "source": [
        "def getImage_train(img_num):\n",
        "  path = path_to_train_images\n",
        "  name = str(img_num)+'_training.tif'                                  \n",
        "  full_path = path + name\n",
        "  image = cv.imread(full_path, -1)\n",
        "  return image"
      ],
      "metadata": {
        "id": "HotMcfjvScMZ"
      },
      "execution_count": null,
      "outputs": []
    },
    {
      "cell_type": "code",
      "metadata": {
        "id": "DaYICy0ZrsyN"
      },
      "source": [
        "def getImage_test(img_num):\n",
        "  path = path_to_test_images\n",
        "  name = str(img_num - 20) + '_test.tif'\n",
        "  if (img_num - 20) < 10:\n",
        "    name = '0'+ name\n",
        "  full_path = path + name\n",
        "  image = cv.imread(full_path, -1)\n",
        "  return image"
      ],
      "execution_count": null,
      "outputs": []
    },
    {
      "cell_type": "markdown",
      "source": [
        "<h3>4. Get the groundtruths of the train/test images </h3>"
      ],
      "metadata": {
        "id": "njHVTGpTV6j0"
      }
    },
    {
      "cell_type": "code",
      "metadata": {
        "id": "X_tTWN33suhz"
      },
      "source": [
        "def getManual_train(man_num):\n",
        "  path = path_to_train_manual\n",
        "  name = str(man_num)+'_manual1.gif'\n",
        "  full_path = path + name\n",
        "  man_gif = Image.open(full_path)\n",
        "  man_gif = np.array(man_gif, dtype=np.uint8)\n",
        "\n",
        "  return man_gif"
      ],
      "execution_count": null,
      "outputs": []
    },
    {
      "cell_type": "code",
      "source": [
        "def getManual_test(man_num):\n",
        "  path = path_to_test_manual\n",
        "  name = str(man_num - 20)+'_test.tif'\n",
        "  if (man_num - 20) < 10:\n",
        "    name = '0'+ name\n",
        "  full_path = path + name\n",
        "  man_gif = Image.open(full_path)\n",
        "  man_gif = np.array(man_gif, dtype=np.uint8)\n",
        "\n",
        "  return man_gif"
      ],
      "metadata": {
        "id": "Juv7JXSNS7bq"
      },
      "execution_count": null,
      "outputs": []
    },
    {
      "cell_type": "markdown",
      "source": [
        "<h3>5. Resizing Images </h3>"
      ],
      "metadata": {
        "id": "OtkYZ9ZDWE4q"
      }
    },
    {
      "cell_type": "code",
      "metadata": {
        "id": "8uYW-JOfutF3"
      },
      "source": [
        "def imgResize(img):\n",
        "  h = img.shape[0]\n",
        "  w = img.shape[1]\n",
        "  perc = 300/w\n",
        "  w1 = 300\n",
        "  h1 = int(h*perc)\n",
        "  img_rd = img\n",
        "  return img_rd"
      ],
      "execution_count": null,
      "outputs": []
    },
    {
      "cell_type": "markdown",
      "source": [
        "<h3>6. Alternate Sequential Filter </h3>"
      ],
      "metadata": {
        "id": "-UAdbnqeWI2I"
      }
    },
    {
      "cell_type": "code",
      "metadata": {
        "id": "1xXWC1d5vDSV"
      },
      "source": [
        "def altSeqFilter(img):\n",
        "  kernels = [(5,5), (7,7), (15,15), (11,11)]\n",
        "  img_close=img.copy()\n",
        "  for alt_seq in range(4):\n",
        "    img_open = cv.morphologyEx(img_close, cv.MORPH_OPEN, cv.getStructuringElement(cv.MORPH_ELLIPSE,kernels[alt_seq]), iterations = 1)\n",
        "    img_close = cv.morphologyEx(img_open, cv.MORPH_CLOSE, cv.getStructuringElement(cv.MORPH_ELLIPSE,kernels[alt_seq]), iterations = 1)\n",
        "  return img_close"
      ],
      "execution_count": null,
      "outputs": []
    },
    {
      "cell_type": "markdown",
      "source": [
        "<h3>7. Noise removal </h3>"
      ],
      "metadata": {
        "id": "37BA_ytDWO33"
      }
    },
    {
      "cell_type": "code",
      "metadata": {
        "id": "x_h0rElQv3cX"
      },
      "source": [
        "def getContours1(img, thresh):\n",
        "  mask1 = np.ones(img.shape, dtype=\"uint8\") * 255\t\n",
        "  cnts0, hier0 = cv.findContours(img.copy(),cv.RETR_LIST,cv.CHAIN_APPROX_SIMPLE)\n",
        "  for i in cnts0:\n",
        "    if cv.contourArea(i) <= thresh:\n",
        "      cv.drawContours(mask1, [i], -1, 0, 1)\n",
        "  mask1 = cv.bitwise_and(img, img, mask = mask1)\n",
        "  return mask1"
      ],
      "execution_count": null,
      "outputs": []
    },
    {
      "cell_type": "markdown",
      "source": [
        "<h3>8. Noise removal based on blob size </h3>"
      ],
      "metadata": {
        "id": "LnPLxurqWeTf"
      }
    },
    {
      "cell_type": "code",
      "metadata": {
        "id": "E5Gk4c_uyIcw"
      },
      "source": [
        "def removeObjects(img, thresh):\n",
        "  arr = img < 255\n",
        "  img_cln = morphology.remove_small_holes(arr, area_threshold=thresh)\n",
        "  img_cln = img_cln.astype('uint8')\n",
        "  img_cln[img_cln == 1] = 255\n",
        "  _,img_clean = cv.threshold(img_cln,20,255,cv.THRESH_BINARY_INV)\n",
        "  return img_clean"
      ],
      "execution_count": null,
      "outputs": []
    },
    {
      "cell_type": "markdown",
      "source": [
        "<h3>9. Calculation of metrics </h3>"
      ],
      "metadata": {
        "id": "7iFcxwb4WoJN"
      }
    },
    {
      "cell_type": "code",
      "metadata": {
        "id": "MY5ahxzVsAAg"
      },
      "source": [
        "def calc_cmat(mat):\n",
        "  tn, fp, fn, tp = mat[0], mat[1], mat[2], mat[3]\n",
        "\n",
        "  print(\"TP: \",tp,\"\\nFP: \",fp,\"\\nFN: \",fn,\"\\nTN: \",tn)\n",
        "\n",
        "  acc = (tp+tn)/(tp+fn+fp+tn)\n",
        "\n",
        "  spcf = tn/(tn+fp)\n",
        "\n",
        "  sens = tp/(tp+fn)\n",
        "\n",
        "  f1s = 2*tp/(2*tp+fp+fn)\n",
        "\n",
        "  return acc, spcf, sens, f1s, tp, fp"
      ],
      "execution_count": null,
      "outputs": []
    },
    {
      "cell_type": "markdown",
      "source": [
        "<h3>10. Main code </h3>"
      ],
      "metadata": {
        "id": "lqKGywdFXYhK"
      }
    },
    {
      "cell_type": "code",
      "metadata": {
        "id": "xIAB_q_ErckJ"
      },
      "source": [
        "acc = []\n",
        "spcf = []\n",
        "sens = []\n",
        "f1_sc = []\n",
        "tp_list = []\n",
        "fp_list = []\n",
        "start_time = time.time()\n",
        "for img_num in range(21,41):\n",
        "  #img = getImage_train(img_num)                                                #use this for images from the train set\n",
        "  img = getImage_test(img_num)                                                  #use this for images from the test set\n",
        "  img = cv.cvtColor(img, cv.COLOR_BGR2RGB)\n",
        "  print(\"Image Number: \", img_num-20)\n",
        "\n",
        "  img_rd = imgResize(img)\n",
        "\n",
        "  _,img_gc,_ = cv.split(img_rd)\n",
        "  \n",
        "  img_gc[img_gc<=30] = 0\n",
        "\n",
        "  clahe = cv.createCLAHE(clipLimit=2.0, tileGridSize=(3,3))\n",
        "  img_cl1 = clahe.apply(img_gc)\n",
        "\n",
        "  img_alt = altSeqFilter(img_cl1)\n",
        "\n",
        "  img_sub = cv.subtract(img_alt, img_cl1)\n",
        "  clahe2 = cv.createCLAHE(clipLimit=16.0, tileGridSize=(2,2))\n",
        "  img_cl2 = clahe2.apply(img_sub)\n",
        "\n",
        "  img_mdf = cv.medianBlur(cv.GaussianBlur(img_cl2,(3,3),0), 3)\n",
        "\n",
        "  _,img_adth = cv.threshold(img_mdf,30,255, cv.THRESH_BINARY)\n",
        "  img_clth = getContours1(img_adth, 8)\n",
        "  img_clth = getContours1(img_clth, 1)\n",
        "\n",
        "\n",
        "  #man = getManual_train(img_num)                                               #use this for images from the train set\n",
        "  man = getManual_test(img_num)                                                 #use this for images from the test set\n",
        "  \n",
        "\n",
        "  unique, counts = np.unique(man, return_counts=True)\n",
        "  print(\"Manual\", dict(zip(unique, counts)))\n",
        "  img_stack = np.hstack([img_clth, man])\n",
        "\n",
        "  mat = confusion_matrix(man.flatten(), img_clth.flatten())\n",
        "  a, sp, sn, f1, tp, fp = calc_cmat(mat.flatten())\n",
        "  \n",
        "  \n",
        "\n",
        "  acc.append(a*100)\n",
        "  spcf.append(sp*100)\n",
        "  sens.append(sn*100)\n",
        "  f1_sc.append(f1*100)\n",
        "  tp_list.append(tp)\n",
        "  fp_list.append(fp)\n",
        "\n",
        "\n",
        "fp_r = 1-np.array(spcf)/100\n",
        "auc_dict = dict(zip(fp_r, sens))\n",
        "auc_dict = {k: v for k, v in sorted(auc_dict.items(), key=lambda item: item[0])}\n",
        "print(\"Accuracy List: \", acc)\n",
        "print(\"Specificity List: \", spcf)\n",
        "print(\"Sensitivity List: \", sens)\n",
        "print(\"F1 Score List: \", f1_sc)\n",
        "print(\"False Positive Rate: \", fp_r)\n",
        "print(auc_dict)\n",
        "print(\"\")\n",
        "\n",
        "end_time = time.time()"
      ],
      "execution_count": null,
      "outputs": []
    },
    {
      "cell_type": "markdown",
      "source": [
        "<h3>11. Metrics </h3>"
      ],
      "metadata": {
        "id": "DycCYQpsXb-J"
      }
    },
    {
      "cell_type": "code",
      "metadata": {
        "id": "QiP_tOmBxVrt",
        "colab": {
          "base_uri": "https://localhost:8080/"
        },
        "outputId": "aafd268f-6d47-4351-f8d8-0a1bbb38a3eb"
      },
      "source": [
        "print(\"Average Accuracy = \\t\", sum(acc)/len(acc))\n",
        "print(\"Average Specificity = \\t\", sum(spcf)/len(spcf))\n",
        "print(\"Average Sensitivity = \\t\", sum(sens)/len(sens))\n",
        "print(\"Average F1 Score = \\t\", sum(f1_sc)/len(f1_sc))\n",
        "print(\" \")\n",
        "\n",
        "print(\"Total Execution Time: \", (end_time - start_time),\"s\")\n",
        "print(\"Average Execution Time: \", (end_time - start_time)/len(acc),\"s\")"
      ],
      "execution_count": null,
      "outputs": [
        {
          "output_type": "stream",
          "text": [
            "Average Accuracy = \t 95.92946114680566\n",
            "Average Specificity = \t 98.31790716721112\n",
            "Average Sensitivity = \t 71.18833676365432\n",
            "Average F1 Score = \t 75.30504863414086\n",
            " \n",
            "Total Execution Time:  6.32865047454834 s\n",
            "Average Execution Time:  0.316432523727417 s\n"
          ],
          "name": "stdout"
        }
      ]
    },
    {
      "cell_type": "markdown",
      "source": [
        "<h3>12. Plotting Metrics </h3>"
      ],
      "metadata": {
        "id": "RqPd07F7mQRd"
      }
    },
    {
      "cell_type": "code",
      "metadata": {
        "id": "ZnIX-g1bC26f",
        "colab": {
          "base_uri": "https://localhost:8080/",
          "height": 396
        },
        "outputId": "e19d9a35-d5b6-4335-b5c2-bf83d63ccd6e"
      },
      "source": [
        "images   = range(1,img_num-19)\n",
        "#------------------------------------------------\n",
        "# Plotting Test Performance Measures per Image\n",
        "#------------------------------------------------\n",
        "plt.plot(images, acc, label = \"Accuracy\" )\n",
        "plt.plot(images, spcf, label = \"Specificity\" )\n",
        "plt.plot(images, sens, label = \"Sensitivity\" )\n",
        "#plt.plot(images, f1_sc, label = \"F1 Score\" )\n",
        "plt.legend(loc='lower right')\n",
        "plt.xlabel(\"Image Number\")\n",
        "plt.xticks(images)\n",
        "plt.ylabel(\"Measures\")\n",
        "plt.ylim(min(sens)-10,100)\n",
        "plt.yticks(range(30,101,10))\n",
        "plt.title ('Test performance measures')\n",
        "plt.savefig('DRIVE_Test_Performance_Measures.png', dpi=100)\n",
        "plt.figure()"
      ],
      "execution_count": null,
      "outputs": [
        {
          "output_type": "stream",
          "text": [
            "Max Accuracy:  97.09601163777427 \tMin Accuracy:  94.78997454236877\n",
            "Max Specificity:  99.03259677376207 \tMin Specificity:  97.26714238149022\n",
            "Max Sensitivity:  79.2882978334734 \tMin Sensitivity:  63.7065637065637\n",
            "Max F1 Score:  81.91597780545804 \tMin F1 Score:  71.99913018266164\n"
          ],
          "name": "stdout"
        },
        {
          "output_type": "execute_result",
          "data": {
            "text/plain": [
              "<Figure size 432x288 with 0 Axes>"
            ]
          },
          "metadata": {
            "tags": []
          },
          "execution_count": 30
        },
        {
          "output_type": "display_data",
          "data": {
            "image/png": "[encoded data removed]",
            "text/plain": [
              "<Figure size 432x288 with 1 Axes>"
            ]
          },
          "metadata": {
            "tags": [],
            "needs_background": "light"
          }
        },
        {
          "output_type": "display_data",
          "data": {
            "text/plain": [
              "<Figure size 432x288 with 0 Axes>"
            ]
          },
          "metadata": {
            "tags": []
          }
        }
      ]
    },
    {
      "cell_type": "code",
      "metadata": {
        "id": "ZSzH4SBKKLOK",
        "colab": {
          "base_uri": "https://localhost:8080/",
          "height": 108
        },
        "outputId": "631e2146-f148-436d-f252-3eafb2ec7921"
      },
      "source": [
        "print(\"Standard Deviation: \")\n",
        "print(\"ACCURACY STD: \", np.std(acc))\n",
        "print(\"SPECIFICITY STD: \", np.std(spcf))\n",
        "print(\"SENSITIVITY STD: \", np.std(sens))\n",
        "print(\"F1 SCORE STD: \", np.std(f1_sc))"
      ],
      "execution_count": null,
      "outputs": [
        {
          "output_type": "stream",
          "text": [
            "Standard Deviation: \n",
            "ACCURACY STD:  0.49454935006494777\n",
            "SPECIFICITY STD:  0.5116300501002328\n",
            "SENSITIVITY STD:  4.532759584356477\n",
            "F1 SCORE STD:  2.578788453155208\n"
          ],
          "name": "stdout"
        }
      ]
    },
    {
      "cell_type": "code",
      "metadata": {
        "id": "yU4LGD_pCEZh",
        "colab": {
          "base_uri": "https://localhost:8080/",
          "height": 126
        },
        "outputId": "df3fa47d-cc17-4ad3-abfc-7d56b9d194bd"
      },
      "source": [
        "avg = (np.add(np.add(np.add(acc, spcf), sens),f1_sc))/4\n",
        "print(avg)\n",
        "print(\"Best Performing Image\", np.where(avg == max(avg)))\n",
        "print(\"Worst Performing Image\", np.where(avg == min(avg)))"
      ],
      "execution_count": null,
      "outputs": [
        {
          "output_type": "stream",
          "text": [
            "[86.25702217 86.84085558 82.94114879 85.88087376 83.58113695 83.14983204\n",
            " 83.91345766 82.07660331 83.63548609 84.40107821 82.87902716 84.56491062\n",
            " 84.11309328 85.36046113 85.0876274  86.21346414 84.44429113 85.39041927\n",
            " 89.52382579 86.02286577]\n",
            "Best Performing Image (array([18]),)\n",
            "Worst Performing Image (array([7]),)\n"
          ],
          "name": "stdout"
        }
      ]
    }
  ]
}